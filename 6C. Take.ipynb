{
 "cells": [
  {
   "cell_type": "code",
   "execution_count": null,
   "metadata": {},
   "outputs": [],
   "source": [
    "from typing import Generator, Iterable, Optional\n",
    "\n",
    "def take(iterable: Iterable, *, skip: int = 0, step: int = 1, count: Optional[int] = None) -> Generator:\n",
    "    '''Yields every `step`-th value from `iterable` skipping first `skip` values.\n",
    "    If `count` is not None yields this many values at most.\n",
    "        \n",
    "    Args:\n",
    "        iterable: Iterable to take values from\n",
    "        skip: Number of values to skip from the beginning, non-negative integer\n",
    "        step: Skip `step` - 1 values between every yield, positive integer\n",
    "        count: Yields this many values at most, None or non-negative integer\n",
    "\n",
    "    Raises:\n",
    "        ValueError:\n",
    "            `skip` or `count` is less than 0\n",
    "            `step` is less than 1\n",
    "        TypeError:\n",
    "            `skip`, `step` is not an int or `iterable` is not an Iterable\n",
    "            `count` is not an int or None\n",
    "\n",
    "    '''\n",
    "    pass"
   ]
  }
 ],
 "metadata": {
  "language_info": {
   "name": "python"
  },
  "orig_nbformat": 4
 },
 "nbformat": 4,
 "nbformat_minor": 2
}
