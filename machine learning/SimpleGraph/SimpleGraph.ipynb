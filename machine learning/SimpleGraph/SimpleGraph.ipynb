{
 "cells": [
  {
   "cell_type": "code",
   "execution_count": 10,
   "metadata": {},
   "outputs": [],
   "source": [
    "import numpy as np\n",
    "\n",
    "# function value\n",
    "def linear_func(theta, x):\n",
    "    return sum(x*theta)\n",
    "\n",
    "# 1-d np.array of function values of all rows of the matrix X\n",
    "def linear_func_all(theta, X):\n",
    "    return np.sum(np.array(X*theta),axis=1)\n",
    "\n",
    "\n",
    "# MSE value of current regression\n",
    "def mean_squared_error(theta, X, y):\n",
    "    return sum((y-linear_func_all(theta, X))**2)/y.shape[0]\n",
    "\n",
    "# 1-d array of gradient by theta\n",
    "def grad_mean_squared_error(theta, X, y):\n",
    "    return np.sum(2 * X.T * (linear_func_all(theta, X) - y), axis=1) / X.shape[0]\n"
   ]
  },
  {
   "cell_type": "code",
   "execution_count": 11,
   "metadata": {},
   "outputs": [],
   "source": [
    "X = np.array([[1,2],[3,4],[4,5]])\n",
    "\n",
    "theta = np.array([5, 6])\n",
    "\n",
    "y = np.array([1, 2, 1])"
   ]
  },
  {
   "cell_type": "code",
   "execution_count": 12,
   "metadata": {},
   "outputs": [
    {
     "data": {
      "text/plain": [
       "array([17, 39, 50])"
      ]
     },
     "execution_count": 12,
     "metadata": {},
     "output_type": "execute_result"
    }
   ],
   "source": [
    "linear_func_all(theta, X)"
   ]
  },
  {
   "cell_type": "code",
   "execution_count": 13,
   "metadata": {},
   "outputs": [
    {
     "data": {
      "text/plain": [
       "1342.0"
      ]
     },
     "execution_count": 13,
     "metadata": {},
     "output_type": "execute_result"
    }
   ],
   "source": [
    "mean_squared_error(theta, X, y)"
   ]
  },
  {
   "cell_type": "code",
   "execution_count": 14,
   "metadata": {},
   "outputs": [
    {
     "data": {
      "text/plain": [
       "array([215.33333333, 283.33333333])"
      ]
     },
     "execution_count": 14,
     "metadata": {},
     "output_type": "execute_result"
    }
   ],
   "source": [
    "grad_mean_squared_error(theta, X, y)"
   ]
  }
 ],
 "metadata": {
  "interpreter": {
   "hash": "b977b1c54e1ae8995c85ab62d32bcef0fe2b3afde370ca3cc67a760e8e35de10"
  },
  "kernelspec": {
   "display_name": "Python 3.8.6 32-bit",
   "language": "python",
   "name": "python3"
  },
  "language_info": {
   "codemirror_mode": {
    "name": "ipython",
    "version": 3
   },
   "file_extension": ".py",
   "mimetype": "text/x-python",
   "name": "python",
   "nbconvert_exporter": "python",
   "pygments_lexer": "ipython3",
   "version": "3.8.6"
  },
  "orig_nbformat": 4
 },
 "nbformat": 4,
 "nbformat_minor": 2
}
