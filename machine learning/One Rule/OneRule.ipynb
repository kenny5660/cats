{
 "cells": [
  {
   "cell_type": "code",
   "execution_count": 1,
   "metadata": {},
   "outputs": [],
   "source": [
    "import pandas as pd\n",
    "import numpy as np\n",
    "import sys "
   ]
  },
  {
   "cell_type": "code",
   "execution_count": 2,
   "metadata": {},
   "outputs": [],
   "source": [
    "\n",
    "from io import StringIO\n",
    "input_text=\"\"\"10 4\n",
    "Outlook Temperature Humidity Windy\n",
    "overcast hot high FALSE 1\n",
    "sunny mild high FALSE 0\n",
    "overcast mild high TRUE 1\n",
    "rainy mild normal FALSE 1\n",
    "overcast hot normal FALSE 1\n",
    "rainy mild high FALSE 1\n",
    "rainy cool normal FALSE 1\n",
    "rainy mild high TRUE 0\n",
    "sunny hot high FALSE 0\n",
    "sunny hot high TRUE 0\n",
    "4\n",
    "rainy cool normal TRUE\n",
    "sunny cool normal FALSE\n",
    "overcast cool normal TRUE\n",
    "sunny mild normal TRUE\n",
    "\"\"\"\n",
    "sys.stdin = StringIO(input_text)"
   ]
  },
  {
   "cell_type": "code",
   "execution_count": 3,
   "metadata": {},
   "outputs": [],
   "source": [
    "n,k = map(int,sys.stdin.readline().split())\n",
    "colums = sys.stdin.readline().split()\n",
    "\n",
    "df_test = pd.DataFrame(columns=colums)\n",
    "colums.append(\"class\")\n",
    "df_lern = pd.DataFrame(columns=colums)\n",
    "colums = colums[:-1]\n",
    "for i in range(n):\n",
    "    df_lern.loc[i] = sys.stdin.readline().split()\n",
    "m = int(sys.stdin.readline())\n",
    "for i in range(m):\n",
    "    df_test.loc[i] = sys.stdin.readline().split()\n",
    "\n"
   ]
  },
  {
   "cell_type": "code",
   "execution_count": 4,
   "metadata": {},
   "outputs": [
    {
     "name": "stdout",
     "output_type": "stream",
     "text": [
      "1\n",
      "0\n",
      "1\n",
      "0\n"
     ]
    }
   ],
   "source": [
    "best_predictor = dict()\n",
    "best_predictor_column = \"\"\n",
    "best_predictor_erros = df_lern.shape[0]\n",
    "for column in colums:\n",
    "    freq_table = dict()\n",
    "    predictor = dict()\n",
    "    errors = 0\n",
    "    for i,row in df_lern[column].items():\n",
    "        if not(row in freq_table):\n",
    "            freq_table[row] = {\"0\":0,\"1\":0}\n",
    "        freq_table[row][df_lern[\"class\"][i]] +=1\n",
    "    for key in freq_table.keys():\n",
    "        if freq_table[key][\"1\"] >= freq_table[key][\"0\"]:\n",
    "            predictor[key] = \"1\"\n",
    "        else:\n",
    "            predictor[key] = \"0\"\n",
    "    for i,row in df_lern[column].items():\n",
    "        if predictor[row] != df_lern[\"class\"][i]:\n",
    "            errors +=1\n",
    "    if errors < best_predictor_erros:\n",
    "        best_predictor_erros = errors\n",
    "        best_predictor = predictor\n",
    "        best_predictor_column = column\n",
    "\n",
    "for row in df_test[best_predictor_column]:\n",
    "    print(best_predictor[row])"
   ]
  },
  {
   "cell_type": "code",
   "execution_count": 5,
   "metadata": {},
   "outputs": [],
   "source": [
    "for column in colums:\n",
    "    freq_table = dict()\n",
    "    predictor = dict()\n",
    "    errors = 0\n",
    "    for i,row in df_lern[[column,\"class\"]].iterrows():\n",
    "        if not(row[column] in freq_table):\n",
    "            freq_table[str(row[column])] = {\"0\":0,\"1\":0}\n"
   ]
  }
 ],
 "metadata": {
  "interpreter": {
   "hash": "b977b1c54e1ae8995c85ab62d32bcef0fe2b3afde370ca3cc67a760e8e35de10"
  },
  "kernelspec": {
   "display_name": "Python 3.8.6 32-bit",
   "language": "python",
   "name": "python3"
  },
  "language_info": {
   "codemirror_mode": {
    "name": "ipython",
    "version": 3
   },
   "file_extension": ".py",
   "mimetype": "text/x-python",
   "name": "python",
   "nbconvert_exporter": "python",
   "pygments_lexer": "ipython3",
   "version": "3.8.6"
  },
  "orig_nbformat": 4
 },
 "nbformat": 4,
 "nbformat_minor": 2
}
