{
 "cells": [
  {
   "cell_type": "code",
   "execution_count": 19,
   "metadata": {},
   "outputs": [],
   "source": [
    "class Time:\n",
    "    # Конструктор, принимающий четыре целых числа: часы, минуты, секунды и миллисекунды.\n",
    "    # В случае, если передан отрицательный параметр, вызвать исключение ValueError.\n",
    "    # После конструирования, значения параметров времени должны быть корректными:\n",
    "    # 0 <= GetHour() <= 23\n",
    "    # 0 <= GetMinute() <= 59\n",
    "    # 0 <= GetSecond() <= 59\n",
    "    # 0 <= GetMillisecond() <= 999\n",
    "    def __init__(self, hours=0, minutes=0, seconds=0, milliseconds=0):\n",
    "        self.hours = 0\n",
    "        self.minutes = 0\n",
    "        self.seconds  = 0\n",
    "        self.milliseconds = 0\n",
    "\n",
    "        self.hours = (self.hours+hours) %24\n",
    "        self.hours += (self.minutes+minutes)//60\n",
    "\n",
    "        self.minutes = (self.minutes+minutes) %60\n",
    "        self.minutes += (self.seconds+seconds)//60\n",
    "\n",
    "        self.seconds = (self.seconds+seconds) %60\n",
    "        self.seconds += (self.milliseconds+milliseconds)//1000\n",
    "\n",
    "        self.milliseconds = (self.milliseconds+milliseconds) %1000\n",
    "    def GetHour(self):\n",
    "        return self.hours\n",
    "    def GetMinute(self):\n",
    "        return self.minutes\n",
    "    def GetSecond(self):\n",
    "        return self.seconds\n",
    "    def GetMillisecond(self):\n",
    "        return self.milliseconds\n",
    "    # Прибавляет указанное количество времени к текущему объекту.\n",
    "    # После выполнения этой операции параметры времени должны остаться корректными.\n",
    "    def Add(self, time):\n",
    "        self.hours = (self.hours+time.hours) %24\n",
    "        self.hours += (self.minutes+time.minutes)//60\n",
    "\n",
    "        self.minutes = (self.minutes+time.minutes) %60\n",
    "        self.minutes += (self.seconds+time.seconds)//60\n",
    "\n",
    "        self.seconds = (self.seconds+time.seconds) %60\n",
    "        self.seconds += (self.milliseconds+time.milliseconds)//1000\n",
    "\n",
    "        self.milliseconds = (self.milliseconds+time.milliseconds) %1000\n",
    "\n",
    "    # Оператор str должен представлять время в формате\n",
    "    # HH:MM:SS.milliseconds\n",
    "    def __str__(self):\n",
    "        return \"{:02d}:{:02d}:{:02d}.{:d}\".format(self.hours,self.minutes,self.seconds,self.milliseconds)"
   ]
  },
  {
   "cell_type": "code",
   "execution_count": 20,
   "metadata": {},
   "outputs": [
    {
     "name": "stdout",
     "output_type": "stream",
     "text": [
      "01:11:12.1\n",
      "01:11:13.11\n"
     ]
    }
   ],
   "source": [
    "time = Time(25, 11, 12, 1)\n",
    "print(str(time))\n",
    "time.Add(Time(0, 0, 0, 1010))\n",
    "print(str(time))\n"
   ]
  }
 ],
 "metadata": {
  "interpreter": {
   "hash": "63b2014fe923bc11fc1089a45e8d8d32d8530e11d1dfc98edf4ada9c05eba13b"
  },
  "kernelspec": {
   "display_name": "Python 3.10.1 64-bit",
   "language": "python",
   "name": "python3"
  },
  "language_info": {
   "codemirror_mode": {
    "name": "ipython",
    "version": 3
   },
   "file_extension": ".py",
   "mimetype": "text/x-python",
   "name": "python",
   "nbconvert_exporter": "python",
   "pygments_lexer": "ipython3",
   "version": "3.10.1"
  },
  "orig_nbformat": 4
 },
 "nbformat": 4,
 "nbformat_minor": 2
}
