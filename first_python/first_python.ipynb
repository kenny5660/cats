{
 "cells": [
  {
   "cell_type": "markdown",
   "source": [
    "# Задача 1A. Hello, world!\r\n",
    "Требуется написать программу, которая печатает \"Hello, world!\" (без кавычек)"
   ],
   "metadata": {}
  },
  {
   "cell_type": "code",
   "execution_count": 1,
   "source": [
    "print(\"Hello, world!\")"
   ],
   "outputs": [
    {
     "output_type": "stream",
     "name": "stdout",
     "text": [
      "Hello, world!\n"
     ]
    }
   ],
   "metadata": {}
  },
  {
   "cell_type": "markdown",
   "source": [
    "# Задача 1B. Радуга ≡\r\n",
    "## Условие\r\n",
    "Требуется написать программу, которая печатает все цвета радуги на русском языке. Каждый цвет вывести в отдельной строке с большой буквы."
   ],
   "metadata": {}
  },
  {
   "cell_type": "code",
   "execution_count": 11,
   "source": [
    "print (\"\\n\".join((\"Красный\",\"Оранжевый\",\"Желтый\",\"Зеленый\",\"Голубой\",\"Синий\",\"Фиолетовый\")))"
   ],
   "outputs": [
    {
     "output_type": "stream",
     "name": "stdout",
     "text": [
      "Красный\n",
      "Оранжевый\n",
      "Желтый\n",
      "Зеленый\n",
      "Голубой\n",
      "Синий\n",
      "Фиолетовый\n"
     ]
    }
   ],
   "metadata": {}
  },
  {
   "cell_type": "markdown",
   "source": [
    "# Задача 1C. Представьтесь\r\n",
    "\r\n",
    "## Условие\r\n",
    "Требуется написать программу, которая считывает имя и фамилию и выводит их в формате\r\n",
    "Меня зовут [фамилия]\r\n",
    "[имя] [фамилия]\r\n",
    "## Формат входных данных\r\n",
    "Входные данные содержат два слова в разных строках: имя и фамилию.\r\n",
    "## Формат выходных данных\r\n",
    "Выходные данные должны содержать текст в описанном формате."
   ],
   "metadata": {}
  },
  {
   "cell_type": "code",
   "execution_count": 6,
   "source": [
    "name  = input()\r\n",
    "soname = input()\r\n",
    "print(\"Меня зовут %s %s %s\"%(soname,name,soname))"
   ],
   "outputs": [
    {
     "output_type": "stream",
     "name": "stdout",
     "text": [
      "Меня зовут Бонд Джеймс Бонд\n"
     ]
    }
   ],
   "metadata": {}
  },
  {
   "cell_type": "markdown",
   "source": [
    "# Задача 1D. Электронная почта\r\n",
    "\r\n",
    "## Условие\r\n",
    "В ДВФУ у каждого студента и сотрудника есть персональный адрес электронной почты в домене dvfu.ru.\r\n",
    "Требуется написать программу, которая по заданным фамилии, имени и роли пользователя создает адрес его электронной почты в формате [фамилия].[имя]@[роль].dvfu.ru\r\n",
    "\r\n",
    "## Формат входных данных\r\n",
    "Входные данные содержат три слова в разных строках.\r\n",
    "\r\n",
    "## Формат выходных данных\r\n",
    "Выходные данные должны содержать одну строку — электронный адрес в описанном формате.\r\n"
   ],
   "metadata": {}
  },
  {
   "cell_type": "code",
   "execution_count": 14,
   "source": [
    "import sys\r\n",
    "print(\"%s.%s@%s.dvfu.ru\".format(*sys.stdin.read().split()))"
   ],
   "outputs": [
    {
     "output_type": "stream",
     "name": "stdout",
     "text": [
      "%s.%s@%s.dvfu.ru\n"
     ]
    }
   ],
   "metadata": {}
  },
  {
   "cell_type": "markdown",
   "source": [
    "# Задача 1E. Солнечный день\r\n",
    "## Условие\r\n",
    "Ваша лодка потерпела крушение! Но вы и не против, сидите себе спокойно и каждые 10 минут выливаете за борт X литров воды.\r\n",
    "\r\n",
    "При этом каждую минуту через пробоину поступает Y литров воды.\r\n",
    "\r\n",
    "При условии, что в таком темпе вы никогда не вычерпаете воду полностью, сколько литров воды будет в вашей лодке через T минут?\r\n",
    "\r\n",
    "Формат входных данных\r\n",
    "Входные данные содержат целые числа \r\n",
    "X,Y и T, по одному числу в строке"
   ],
   "metadata": {}
  },
  {
   "cell_type": "code",
   "execution_count": 20,
   "source": [
    "import sys\r\n",
    "x,y,t = map(int, input().split())\r\n",
    "print((y*t)%x)"
   ],
   "outputs": [
    {
     "output_type": "stream",
     "name": "stdout",
     "text": [
      "81\n"
     ]
    }
   ],
   "metadata": {}
  },
  {
   "cell_type": "markdown",
   "source": [
    "# Задача 1F. Олины торты"
   ],
   "metadata": {}
  },
  {
   "cell_type": "code",
   "execution_count": 22,
   "source": [
    "m,n = map(int, input().split())\r\n",
    "print(m/n)"
   ],
   "outputs": [
    {
     "output_type": "stream",
     "name": "stdout",
     "text": [
      "1.5\n"
     ]
    }
   ],
   "metadata": {}
  }
 ],
 "metadata": {
  "orig_nbformat": 4,
  "language_info": {
   "name": "python",
   "version": "3.8.6",
   "mimetype": "text/x-python",
   "codemirror_mode": {
    "name": "ipython",
    "version": 3
   },
   "pygments_lexer": "ipython3",
   "nbconvert_exporter": "python",
   "file_extension": ".py"
  },
  "kernelspec": {
   "name": "python3",
   "display_name": "Python 3.8.6 32-bit"
  },
  "interpreter": {
   "hash": "b977b1c54e1ae8995c85ab62d32bcef0fe2b3afde370ca3cc67a760e8e35de10"
  }
 },
 "nbformat": 4,
 "nbformat_minor": 2
}