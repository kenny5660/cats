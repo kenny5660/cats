{
 "cells": [
  {
   "cell_type": "code",
   "execution_count": 25,
   "metadata": {},
   "outputs": [],
   "source": [
    "import time\n",
    "\n",
    "def time_decorator (decorated_func):\n",
    "        def new_decorated_func(*args, **kwargs):\n",
    "            start_time = time.time()\n",
    "            print(\"Start time: {}\".format(start_time))\n",
    "            result = decorated_func(*args, **kwargs)\n",
    "            end_time = time.time()\n",
    "            print(\"End time: {}\".format(end_time))\n",
    "            print(\"Execution time: {}\".format(end_time - start_time))\n",
    "            return result\n",
    "        return new_decorated_func\n",
    "def counter_decorator(decorated_func):\n",
    "        def helper(*args, **kwargs):\n",
    "                helper.cnt +=1\n",
    "                print(\"Function calls count: {}\".format(helper.cnt))\n",
    "                return decorated_func(*args, **kwargs)\n",
    "        helper.cnt = 0\n",
    "        return helper\n",
    "def method_decorator(decorated_method):\n",
    "        def helper(self,x,y,z):\n",
    "                return decorated_method(self,3 * x - 7 * y + 15 * z + 18)\n",
    "        return helper "
   ]
  },
  {
   "cell_type": "code",
   "execution_count": 26,
   "metadata": {},
   "outputs": [
    {
     "name": "stdout",
     "output_type": "stream",
     "text": [
      "2704\n"
     ]
    }
   ],
   "source": [
    "class do_it:\n",
    "  def __init__(self):\n",
    "    pass\n",
    "\n",
    "  @method_decorator\n",
    "  def calc(self, x):\n",
    "    print(x * x)\n",
    "\n",
    "obj = do_it()\n",
    "obj.calc(1, 2, 3)\n"
   ]
  },
  {
   "cell_type": "code",
   "execution_count": 16,
   "metadata": {},
   "outputs": [
    {
     "name": "stdout",
     "output_type": "stream",
     "text": [
      "Start time: 1643378601.5680594\n",
      "75897\n",
      "End time: 1643378601.7190592\n",
      "Execution time: 0.1509997844696045\n"
     ]
    }
   ],
   "source": [
    "import random\n",
    "@time_decorator\n",
    "def floyd_warshall (n):\n",
    "  dp = [[0] * n for i in range(n)]\n",
    "  for i in range(n):\n",
    "    for j in range(n):\n",
    "      if (i == j):\n",
    "        dp[i][j] = 0\n",
    "      else:\n",
    "        dp[i][j] = random.randint(1, n)\n",
    "\n",
    "  for k in range(n):\n",
    "    for i in range(n):\n",
    "      for j in range(n):\n",
    "        dp[i][j] = min(dp[i][j], dp[i][k] + dp[k][j])\n",
    "\n",
    "  sum = 0\n",
    "  for i in range(n):\n",
    "    for j in range(n):  \n",
    "      sum += dp[i][j]\n",
    "\n",
    "  print(sum)\n",
    "\n",
    "floyd_warshall(100)\n"
   ]
  },
  {
   "cell_type": "code",
   "execution_count": 19,
   "metadata": {},
   "outputs": [
    {
     "name": "stdout",
     "output_type": "stream",
     "text": [
      "Function calls count: 1\n",
      "3\n",
      "Function calls count: 2\n",
      "9\n",
      "Function calls count: 3\n",
      "1\n"
     ]
    }
   ],
   "source": [
    "def sum (a, b):\n",
    "  print(a + b)\n",
    "\n",
    "fn = counter_decorator(sum)\n",
    "fn(1, 2)\n",
    "fn(4, 5)\n",
    "fn(-4, 5)\n"
   ]
  }
 ],
 "metadata": {
  "interpreter": {
   "hash": "63b2014fe923bc11fc1089a45e8d8d32d8530e11d1dfc98edf4ada9c05eba13b"
  },
  "kernelspec": {
   "display_name": "Python 3.10.1 64-bit",
   "language": "python",
   "name": "python3"
  },
  "language_info": {
   "codemirror_mode": {
    "name": "ipython",
    "version": 3
   },
   "file_extension": ".py",
   "mimetype": "text/x-python",
   "name": "python",
   "nbconvert_exporter": "python",
   "pygments_lexer": "ipython3",
   "version": "3.10.1"
  },
  "orig_nbformat": 4
 },
 "nbformat": 4,
 "nbformat_minor": 2
}
