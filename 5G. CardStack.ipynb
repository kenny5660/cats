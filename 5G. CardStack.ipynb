{
 "cells": [
  {
   "cell_type": "code",
   "execution_count": 25,
   "metadata": {},
   "outputs": [],
   "source": [
    "from __future__ import annotations\n",
    "from typing import Union, Iterable, List\n",
    "import random\n",
    "class CardStack:\n",
    "\n",
    "    values: List[int]\n",
    "\n",
    "    def __init__(self, val: Union[int, Iterable[int], None] = None):\n",
    "      \"\"\"If val is None values is an empty list\n",
    "         If val is int fills values with val random integers between -100 and 100\n",
    "         If val is Iterable[int] fills values from val\n",
    "      \"\"\"\n",
    "      if hasattr(val, '__iter__'):\n",
    "        self.values = list()\n",
    "        for value in val:\n",
    "          self.values.append(value)\n",
    "      elif isinstance(val,int):\n",
    "        self.values = [random.randint(-100,100) for i in range(val)]\n",
    "      else:\n",
    "        self.values = list()\n",
    "    def shuffled(self) -> CardStack:\n",
    "      new_list = list(self.values)\n",
    "      random.shuffle(new_list)\n",
    "      return CardStack(new_list)\n",
    "\n",
    "    def combine(self, other: CardStack) -> CardStack:\n",
    "      \"\"\"Returns a new CardStack instance with self and other values combined one after another\n",
    "         [1, 2, 3], [4, 5, 6, 7] -> [1, 4, 2, 5, 3, 6, 7]\n",
    "      \"\"\"\n",
    "      num = min(len(self.values), len(other.values))\n",
    "      result = [None]*(num*2)\n",
    "      result[::2] = self.values[:num]\n",
    "      result[1::2] = other.values[:num]\n",
    "      result.extend(self.values[num:])\n",
    "      result.extend(other.values[num:])\n",
    "      return CardStack(result)\n",
    "\n",
    "    def add(self, value: int) -> None:\n",
    "      self.values.append(value)\n",
    "\n",
    "    def __len__(self) -> int:\n",
    "     return len(self.values)"
   ]
  },
  {
   "cell_type": "code",
   "execution_count": 26,
   "metadata": {},
   "outputs": [
    {
     "data": {
      "text/plain": [
       "[1, 4, 2, 5, 3, 6, 7]"
      ]
     },
     "execution_count": 26,
     "metadata": {},
     "output_type": "execute_result"
    }
   ],
   "source": [
    "lst1 = CardStack([1,2,3])\n",
    "lst2 = CardStack([4,5,6,7])\n",
    "lst3 = lst1.combine(lst2)\n",
    "lst3.values"
   ]
  }
 ],
 "metadata": {
  "interpreter": {
   "hash": "63b2014fe923bc11fc1089a45e8d8d32d8530e11d1dfc98edf4ada9c05eba13b"
  },
  "kernelspec": {
   "display_name": "Python 3.10.1 64-bit",
   "language": "python",
   "name": "python3"
  },
  "language_info": {
   "codemirror_mode": {
    "name": "ipython",
    "version": 3
   },
   "file_extension": ".py",
   "mimetype": "text/x-python",
   "name": "python",
   "nbconvert_exporter": "python",
   "pygments_lexer": "ipython3",
   "version": "3.10.1"
  },
  "orig_nbformat": 4
 },
 "nbformat": 4,
 "nbformat_minor": 2
}
