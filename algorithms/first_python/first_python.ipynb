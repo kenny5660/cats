{
 "cells": [
  {
   "cell_type": "markdown",
   "metadata": {},
   "source": [
    "# Задача 1A. Hello, world!\n",
    "Требуется написать программу, которая печатает \"Hello, world!\" (без кавычек)"
   ]
  },
  {
   "cell_type": "code",
   "execution_count": 1,
   "metadata": {},
   "outputs": [
    {
     "name": "stdout",
     "output_type": "stream",
     "text": [
      "Hello, world!\n"
     ]
    }
   ],
   "source": [
    "print(\"Hello, world!\")"
   ]
  },
  {
   "cell_type": "markdown",
   "metadata": {},
   "source": [
    "# Задача 1B. Радуга ≡\n",
    "## Условие\n",
    "Требуется написать программу, которая печатает все цвета радуги на русском языке. Каждый цвет вывести в отдельной строке с большой буквы."
   ]
  },
  {
   "cell_type": "code",
   "execution_count": 11,
   "metadata": {},
   "outputs": [
    {
     "name": "stdout",
     "output_type": "stream",
     "text": [
      "Красный\n",
      "Оранжевый\n",
      "Желтый\n",
      "Зеленый\n",
      "Голубой\n",
      "Синий\n",
      "Фиолетовый\n"
     ]
    }
   ],
   "source": [
    "print (\"\\n\".join((\"Красный\",\"Оранжевый\",\"Желтый\",\"Зеленый\",\"Голубой\",\"Синий\",\"Фиолетовый\")))"
   ]
  },
  {
   "cell_type": "markdown",
   "metadata": {},
   "source": [
    "# Задача 1C. Представьтесь\n",
    "\n",
    "## Условие\n",
    "Требуется написать программу, которая считывает имя и фамилию и выводит их в формате\n",
    "Меня зовут [фамилия]\n",
    "[имя] [фамилия]"
   ]
  },
  {
   "cell_type": "code",
   "execution_count": 6,
   "metadata": {},
   "outputs": [
    {
     "name": "stdout",
     "output_type": "stream",
     "text": [
      "Меня зовут Бонд Джеймс Бонд\n"
     ]
    }
   ],
   "source": [
    "name  = input()\n",
    "soname = input()\n",
    "print(\"Меня зовут %s\\n%s %s\"%(soname,name,soname))"
   ]
  },
  {
   "cell_type": "markdown",
   "metadata": {},
   "source": [
    "# Задача 1D. Электронная почта\n",
    "\n",
    "## Условие\n",
    "В ДВФУ у каждого студента и сотрудника есть персональный адрес электронной почты в домене dvfu.ru.\n",
    "Требуется написать программу, которая по заданным фамилии, имени и роли пользователя создает адрес его электронной почты в формате [фамилия].[имя]@[роль].dvfu.ru\n",
    "\n",
    "## Формат входных данных\n",
    "Входные данные содержат три слова в разных строках.\n",
    "\n",
    "## Формат выходных данных\n",
    "Выходные данные должны содержать одну строку — электронный адрес в описанном формате.\n"
   ]
  },
  {
   "cell_type": "code",
   "execution_count": 14,
   "metadata": {},
   "outputs": [
    {
     "name": "stdout",
     "output_type": "stream",
     "text": [
      "%s.%s@%s.dvfu.ru\n"
     ]
    }
   ],
   "source": [
    "import sys\n",
    "soname = input() \n",
    "name = input()  \n",
    "role = input() \n",
    "print(\"%s.%s@%s.dvfu.ru\"%(soname,name,role))"
   ]
  },
  {
   "cell_type": "markdown",
   "metadata": {},
   "source": [
    "# Задача 1E. Солнечный день\n",
    "## Условие\n",
    "Ваша лодка потерпела крушение! Но вы и не против, сидите себе спокойно и каждые 10 минут выливаете за борт X литров воды.\n",
    "\n",
    "При этом каждую минуту через пробоину поступает Y литров воды.\n",
    "\n",
    "При условии, что в таком темпе вы никогда не вычерпаете воду полностью, сколько литров воды будет в вашей лодке через T минут?\n",
    "\n",
    "Формат входных данных\n",
    "Входные данные содержат целые числа \n",
    "X,Y и T, по одному числу в строке"
   ]
  },
  {
   "cell_type": "code",
   "execution_count": 20,
   "metadata": {},
   "outputs": [
    {
     "name": "stdout",
     "output_type": "stream",
     "text": [
      "81\n"
     ]
    }
   ],
   "source": [
    "import sys\n",
    "x,y,t = map(int, sys.stdin.read().split())\n",
    "print(t * y - t//10 * x)"
   ]
  },
  {
   "cell_type": "markdown",
   "metadata": {},
   "source": [
    "# Задача 1F. Олины торты"
   ]
  },
  {
   "cell_type": "code",
   "execution_count": 22,
   "metadata": {},
   "outputs": [
    {
     "name": "stdout",
     "output_type": "stream",
     "text": [
      "1.5\n"
     ]
    }
   ],
   "source": [
    "import sys\n",
    "m,n = map(int, sys.stdin.read().split())\n",
    "print(m/n)"
   ]
  }
 ],
 "metadata": {
  "interpreter": {
   "hash": "b977b1c54e1ae8995c85ab62d32bcef0fe2b3afde370ca3cc67a760e8e35de10"
  },
  "kernelspec": {
   "display_name": "Python 3.8.6 32-bit",
   "name": "python3"
  },
  "language_info": {
   "codemirror_mode": {
    "name": "ipython",
    "version": 3
   },
   "file_extension": ".py",
   "mimetype": "text/x-python",
   "name": "python",
   "nbconvert_exporter": "python",
   "pygments_lexer": "ipython3",
   "version": "3.8.6"
  },
  "orig_nbformat": 4
 },
 "nbformat": 4,
 "nbformat_minor": 2
}
